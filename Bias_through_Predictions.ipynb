{
  "cells": [
    {
      "cell_type": "code",
      "execution_count": null,
      "id": "fbd40fbf",
      "metadata": {
        "id": "fbd40fbf"
      },
      "outputs": [],
      "source": [
        "from embedding_helper import *\n",
        "from data_handler import *"
      ]
    },
    {
      "cell_type": "code",
      "execution_count": null,
      "id": "13c04456",
      "metadata": {
        "id": "13c04456"
      },
      "outputs": [],
      "source": [
        "DIMS = 50\n",
        "CUTOFF = 0.00002"
      ]
    },
    {
      "cell_type": "code",
      "execution_count": null,
      "id": "4541d79c",
      "metadata": {
        "id": "4541d79c"
      },
      "outputs": [],
      "source": [
        "# loading embeddings\n",
        "entity_vec, relations_vec = load_embeddings(dims=DIMS)\n",
        "entity_dict, relations_dict = load_ids()\n",
        "\n",
        "male_vector, female_vector = get_gender_vectors(entity_vec, entity_dict, DIMS)\n",
        "\n",
        "# getting occupation sets\n",
        "triplets, entity_labels, property_labels = load_data()\n",
        "male_occupations, female_occupations, neutral_occupations = get_male_female_neutral_occupations(triplets, entity_labels, property_labels, CUTOFF)\n",
        "\n"
      ]
    },
    {
      "cell_type": "code",
      "execution_count": null,
      "id": "dc7f7702",
      "metadata": {
        "id": "dc7f7702"
      },
      "outputs": [],
      "source": [
        "def get_topX_prediction_score(entity_vec, relation_vector, occupation_vector, X=10):\n",
        "    # Given the occupation, this function returns the top X individuals with the top X largest scores.\n",
        "    # here we skip the occupations whose vector is not available\n",
        "    score_dict = {}\n",
        "    for entity_vector in entity_vec:\n",
        "      score = - np.linalg.norm(entity_vector + relation_vector - occupation_vector, ord=1)\n",
        "      score_dict[score] = entity_vector\n",
        "\n",
        "    if X>len(score_dict):\n",
        "      print(f\"Error, X = {X} exceeds the total number of entities available i.e. {len(score_dict)}\")   \n",
        "    else:\n",
        "      topX_score_dict = dict(sorted(score_dict.items(), key=lambda item: item[0])[:X])\n",
        "    \n",
        "    return topX_score_dict"
      ]
    }
  ],
  "metadata": {
    "kernelspec": {
      "display_name": "Python 3",
      "language": "python",
      "name": "python3"
    },
    "language_info": {
      "codemirror_mode": {
        "name": "ipython",
        "version": 3
      },
      "file_extension": ".py",
      "mimetype": "text/x-python",
      "name": "python",
      "nbconvert_exporter": "python",
      "pygments_lexer": "ipython3",
      "version": "3.8.8"
    },
    "colab": {
      "name": "Bias in Embeddings - Projection.ipynb",
      "provenance": [],
      "collapsed_sections": []
    }
  },
  "nbformat": 4,
  "nbformat_minor": 5
}