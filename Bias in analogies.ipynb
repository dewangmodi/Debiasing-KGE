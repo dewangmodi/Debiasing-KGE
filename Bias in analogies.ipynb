{
  "cells": [
    {
      "cell_type": "markdown",
      "metadata": {
        "id": "view-in-github",
        "colab_type": "text"
      },
      "source": [
        "<a href=\"https://colab.research.google.com/github/dewangmodi/Debiasing-KGE/blob/master/Bias%20in%20analogies.ipynb\" target=\"_parent\"><img src=\"https://colab.research.google.com/assets/colab-badge.svg\" alt=\"Open In Colab\"/></a>"
      ]
    },
    {
      "cell_type": "code",
      "execution_count": null,
      "metadata": {
        "colab": {
          "base_uri": "https://localhost:8080/"
        },
        "id": "2GRURGw_AbtX",
        "outputId": "f7256a0e-bd79-427b-9a96-8845f4ab0996"
      },
      "outputs": [
        {
          "output_type": "stream",
          "name": "stdout",
          "text": [
            "Mounted at /content/drive/\n"
          ]
        }
      ],
      "source": [
        "from google.colab import drive\n",
        "drive.mount('/content/drive/')"
      ]
    },
    {
      "cell_type": "code",
      "source": [
        "DIMS = 50\n",
        "CUTOFF = 0.00002"
      ],
      "metadata": {
        "id": "1FSOUA77et-S"
      },
      "execution_count": null,
      "outputs": []
    },
    {
      "cell_type": "code",
      "source": [
        "entity_vec, relations_vec = load_embeddings(dims=DIMS)\n",
        "entity_dict, relations_dict = load_ids()"
      ],
      "metadata": {
        "id": "SKfMl6w8eyWP"
      },
      "execution_count": null,
      "outputs": []
    },
    {
      "cell_type": "code",
      "source": [
        "male_vector, female_vector = get_gender_vectors(entity_vec, entity_dict, DIMS)\n",
        "triplets, entity_labels, property_labels = load_data()\n",
        "male_occupations, female_occupations, neutral_occupations = get_male_female_neutral_occupations(triplets, entity_labels, property_labels, CUTOFF)"
      ],
      "metadata": {
        "id": "U1VMPH6-9FrU"
      },
      "execution_count": null,
      "outputs": []
    },
    {
      "cell_type": "code",
      "source": [
        "import math\n",
        "def cosine(v1,v2):\n",
        "    \"compute cosine similarity of v1 to v2: (v1 dot v2)/{||v1||*||v2||)\"\n",
        "    sumxx, sumxy, sumyy = 0, 0, 0\n",
        "    for i in range(len(v1)):\n",
        "        x = v1[i]; y = v2[i]\n",
        "        sumxx += x*x\n",
        "        sumyy += y*y\n",
        "        sumxy += x*y\n",
        "    return sumxy/math.sqrt(abs(sumxx*sumyy)+0.01)"
      ],
      "metadata": {
        "id": "dr-9vXb8PeZZ"
      },
      "execution_count": null,
      "outputs": []
    },
    {
      "cell_type": "code",
      "source": [
        "def func(a):\n",
        "  if a[2]!='nan':\n",
        "   return a[2]\n",
        "  return a[0]"
      ],
      "metadata": {
        "id": "SUv6C12jQX6H"
      },
      "execution_count": null,
      "outputs": []
    },
    {
      "cell_type": "code",
      "source": [
        "def get_analogies(occupation1,occupation2):\n",
        "  occ1_vec=get_averaged_entity_vector(entity_vec, entity_dict,DIMS,get_entity_id(entity_labels,occupation1))\n",
        "  occ2_vec=get_averaged_entity_vector(entity_vec, entity_dict,DIMS,get_entity_id(entity_labels,occupation2))\n",
        "  rel_vec=np.array(relations_vec[relations_dict['P106']])\n",
        "  rel_vec=rel_vec.reshape(-1,1)\n",
        "  vec1=(female_vector+rel_vec-male_vector)\n",
        "  vec2=(occ2_vec+rel_vec-occ1_vec)\n",
        "  return cosine(vec1,vec2)"
      ],
      "metadata": {
        "id": "vtwi7J_jMhvh"
      },
      "execution_count": null,
      "outputs": []
    },
    {
      "cell_type": "code",
      "source": [
        "male_occ=[\"'politician'\",\"'writer'\",\"'cricketer'\",\"'film director'\",\"'author'\"]\n",
        "female_occ=[\"'actor'\",\"'televison actor'\",\"'singer'\",\"'model'\",\"'film actor'\"]\n",
        "fin_list=[]\n",
        "fa=[]\n",
        "fb=[]\n",
        "fc=[]\n",
        "for a in male_occ:\n",
        "  for b in female_occ:\n",
        "    if not np.isnan(get_analogies(a,b)[0]):\n",
        "       fa.append(a)\n",
        "       fb.append(b)\n",
        "       fc.append(get_analogies(a,b)[0])\n",
        "fin_list=list(zip(fa,fb,fc))\n",
        "fin_list.sort(reverse=True,key=func)\n",
        "fin_list\n"
      ],
      "metadata": {
        "colab": {
          "base_uri": "https://localhost:8080/"
        },
        "id": "FfstiDQUXYRI",
        "outputId": "bc5c2699-c396-4c6f-e1cb-244715aac3a1"
      },
      "execution_count": null,
      "outputs": [
        {
          "output_type": "stream",
          "name": "stderr",
          "text": [
            "/usr/local/lib/python3.7/dist-packages/ipykernel_launcher.py:47: RuntimeWarning: invalid value encountered in true_divide\n"
          ]
        },
        {
          "output_type": "execute_result",
          "data": {
            "text/plain": [
              "[(\"'politician'\", \"'singer'\", 0.9680691984677265),\n",
              " (\"'author'\", \"'singer'\", 0.9676289111549028),\n",
              " (\"'film director'\", \"'film actor'\", 0.9662071405123678),\n",
              " (\"'film director'\", \"'model'\", 0.9633796978390832),\n",
              " (\"'writer'\", \"'singer'\", 0.9623744750692886),\n",
              " (\"'film director'\", \"'actor'\", 0.9611774151333318),\n",
              " (\"'politician'\", \"'model'\", 0.9587443462877793),\n",
              " (\"'author'\", \"'actor'\", 0.9564560787368943),\n",
              " (\"'author'\", \"'model'\", 0.9557688390303224),\n",
              " (\"'film director'\", \"'singer'\", 0.955121439440013),\n",
              " (\"'politician'\", \"'actor'\", 0.9538425821991763),\n",
              " (\"'writer'\", \"'model'\", 0.9517136888755545),\n",
              " (\"'cricketer'\", \"'singer'\", 0.9513146039720329),\n",
              " (\"'writer'\", \"'actor'\", 0.9499312991068166),\n",
              " (\"'author'\", \"'film actor'\", 0.9471918123652108),\n",
              " (\"'cricketer'\", \"'actor'\", 0.946975194221153),\n",
              " (\"'cricketer'\", \"'model'\", 0.9453526180508293),\n",
              " (\"'politician'\", \"'film actor'\", 0.9434581362275586),\n",
              " (\"'writer'\", \"'film actor'\", 0.9425421031053169),\n",
              " (\"'cricketer'\", \"'film actor'\", 0.9314479653781105)]"
            ]
          },
          "metadata": {},
          "execution_count": 210
        }
      ]
    },
    {
      "cell_type": "code",
      "source": [
        "#male_occupations.tolist()\n",
        "#male_occupations.sort(reverse=True)\n",
        "female_occupations.sort_values(ascending=False)"
      ],
      "metadata": {
        "colab": {
          "base_uri": "https://localhost:8080/"
        },
        "id": "oMS2PwmQdFMF",
        "outputId": "a8f48f8b-ea5f-470c-d8d9-977571a65473"
      },
      "execution_count": null,
      "outputs": [
        {
          "output_type": "execute_result",
          "data": {
            "text/plain": [
              "'actor'                           0.209430\n",
              "'television actor'                0.075813\n",
              "'singer'                          0.046945\n",
              "'model'                           0.043302\n",
              "'film actor'                      0.031274\n",
              "                                    ...   \n",
              "'government employee'             0.000069\n",
              "'handball player'                 0.000069\n",
              "'healer'                          0.000069\n",
              "'heptathlete'                     0.000069\n",
              "'infectious disease physician'    0.000069\n",
              "Name: female, Length: 374, dtype: float64"
            ]
          },
          "metadata": {},
          "execution_count": 164
        }
      ]
    }
  ],
  "metadata": {
    "colab": {
      "name": "Untitled7.ipynb",
      "provenance": [],
      "authorship_tag": "ABX9TyOUqBlU7qOUNS5dHM/1/UoM",
      "include_colab_link": true
    },
    "kernelspec": {
      "display_name": "Python 3",
      "name": "python3"
    },
    "language_info": {
      "name": "python"
    }
  },
  "nbformat": 4,
  "nbformat_minor": 0
}