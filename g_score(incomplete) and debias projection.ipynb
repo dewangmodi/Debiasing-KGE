{
  "cells": [
    {
      "cell_type": "markdown",
      "metadata": {
        "id": "view-in-github",
        "colab_type": "text"
      },
      "source": [
        "<a href=\"https://colab.research.google.com/github/dewangmodi/Debiasing-KGE/blob/master/g_score(incomplete)%20and%20debias%20projection.ipynb\" target=\"_parent\"><img src=\"https://colab.research.google.com/assets/colab-badge.svg\" alt=\"Open In Colab\"/></a>"
      ]
    },
    {
      "cell_type": "code",
      "execution_count": null,
      "metadata": {
        "colab": {
          "base_uri": "https://localhost:8080/"
        },
        "id": "2GRURGw_AbtX",
        "outputId": "40f26715-66b3-439f-d8ac-373ddfee0369"
      },
      "outputs": [
        {
          "output_type": "stream",
          "name": "stdout",
          "text": [
            "Mounted at /content/drive/\n"
          ]
        }
      ],
      "source": [
        "from google.colab import drive\n",
        "drive.mount('/content/drive/')"
      ]
    },
    {
      "cell_type": "code",
      "source": [
        "DIMS = 50\n",
        "CUTOFF = 0.00002"
      ],
      "metadata": {
        "id": "1FSOUA77et-S"
      },
      "execution_count": null,
      "outputs": []
    },
    {
      "cell_type": "code",
      "source": [
        "entity_vec, relations_vec = load_embeddings(dims=DIMS)\n",
        "entity_dict, relations_dict = load_ids()"
      ],
      "metadata": {
        "id": "SKfMl6w8eyWP"
      },
      "execution_count": null,
      "outputs": []
    },
    {
      "cell_type": "code",
      "source": [
        "male_vector, female_vector = get_gender_vectors(entity_vec, entity_dict, DIMS)\n",
        "triplets, entity_labels, property_labels = load_data()\n",
        "male_occupations, female_occupations, neutral_occupations = get_male_female_neutral_occupations(triplets, entity_labels, property_labels, CUTOFF)"
      ],
      "metadata": {
        "id": "U1VMPH6-9FrU"
      },
      "execution_count": null,
      "outputs": []
    },
    {
      "cell_type": "code",
      "source": [
        "import math\n",
        "def cosine(v1,v2):\n",
        "  return np.dot(v1.transpose(),v2)/(np.linalg.norm(v1)*np.linalg.norm(v2))"
      ],
      "metadata": {
        "id": "dr-9vXb8PeZZ"
      },
      "execution_count": null,
      "outputs": []
    },
    {
      "cell_type": "code",
      "source": [
        "def get_g_score(occupation_list):\n",
        "  gm_score,gf_score=0,0\n",
        "  count=0\n",
        "  for i in occupation_list:\n",
        "        occupation_id = get_entity_id(entity_labels, i)\n",
        "        occupation_id_with_vector = []\n",
        "        for occ_id in occupation_id:\n",
        "            if occ_id in entity_dict:\n",
        "                occupation_id_with_vector.append(occ_id)\n",
        "        if len(occupation_id_with_vector)==0:\n",
        "            continue\n",
        "        occupation_vector = get_averaged_entity_vector(entity_vec, entity_dict,DIMS,occupation_id_with_vector)\n",
        "        g1_score=cosine(occupation_vector,male_vector/np.linalg.norm(male_vector))\n",
        "        g2_score=cosine(occupation_vector,female_vector)\n",
        "        gm_score+=(g1_score)\n",
        "        gf_score+=(g2_score)\n",
        "        count+=1\n",
        "  return gm_score/count,gf_score/count,count\n",
        "  "
      ],
      "metadata": {
        "id": "JubSQY0cXGJG"
      },
      "execution_count": null,
      "outputs": []
    },
    {
      "cell_type": "code",
      "source": [
        "m1,m2,c=get_g_score(female_occupations)\n",
        "print(m1,m2,c)"
      ],
      "metadata": {
        "colab": {
          "base_uri": "https://localhost:8080/"
        },
        "id": "NynPQrqvYz-s",
        "outputId": "fd762b9d-6474-4299-c2d8-4978bf4cfd6e"
      },
      "execution_count": null,
      "outputs": [
        {
          "output_type": "stream",
          "name": "stdout",
          "text": [
            "[[0.32123734]] [[0.3276567]] 312\n"
          ]
        }
      ]
    },
    {
      "cell_type": "code",
      "source": [
        "def get_occupation_score_debias(occupation_list,lamb):\n",
        "  gv1=(female_vector-male_vector)\n",
        "  nm=np.linalg.norm(gv1)\n",
        "  gender_vector = (female_vector - male_vector)/np.linalg.norm(female_vector - male_vector)\n",
        "  projection_score = 0\n",
        "  count = 0\n",
        "  for i in occupation_list:\n",
        "      occupation_id = get_entity_id(entity_labels, i)\n",
        "      occupation_id_with_vector = []\n",
        "      for occ_id in occupation_id:\n",
        "          if occ_id in entity_dict:\n",
        "              occupation_id_with_vector.append(occ_id)\n",
        "      if len(occupation_id_with_vector)==0:\n",
        "          continue\n",
        "      occupation_vector = get_averaged_entity_vector(entity_vec, entity_dict,DIMS,occupation_id_with_vector)\n",
        "      projection = np.dot(gender_vector.transpose(), occupation_vector)\n",
        "      gk=projection\n",
        "      occupation_vector1=occupation_vector-lamb*gk*gender_vector\n",
        "      projection=np.dot(gender_vector.transpose(), occupation_vector1)\n",
        "      projection_score += projection\n",
        "      count += 1\n",
        "  return projection_score/count\n"
      ],
      "metadata": {
        "id": "AbkFrIWimgRh"
      },
      "execution_count": null,
      "outputs": []
    },
    {
      "cell_type": "code",
      "source": [
        "male_occupation_score = get_occupation_score_debias(male_occupations,0.5)\n",
        "female_occupation_score = get_occupation_score_debias(female_occupations,0.5)\n",
        "neutral_occupation_score = get_occupation_score_debias(neutral_occupations,0.5)\n",
        "print(\"Projection Score\\tMale\\t\\tFemale\\t\\tNeutral\")\n",
        "print(\"\\t\\t\\t%f\\t%f\\t%f\"%(male_occupation_score, female_occupation_score, neutral_occupation_score))"
      ],
      "metadata": {
        "colab": {
          "base_uri": "https://localhost:8080/"
        },
        "id": "lJIpIWR9oRI3",
        "outputId": "ee4a3238-5982-4a48-b6b4-5189e0657bc1"
      },
      "execution_count": null,
      "outputs": [
        {
          "output_type": "stream",
          "name": "stdout",
          "text": [
            "Projection Score\tMale\t\tFemale\t\tNeutral\n",
            "\t\t\t0.088583\t0.077916\t0.052209\n"
          ]
        }
      ]
    }
  ],
  "metadata": {
    "colab": {
      "name": "Untitled7.ipynb",
      "provenance": [],
      "authorship_tag": "ABX9TyNptkIlSrD/WqelZ2FNm+ke",
      "include_colab_link": true
    },
    "kernelspec": {
      "display_name": "Python 3",
      "name": "python3"
    },
    "language_info": {
      "name": "python"
    }
  },
  "nbformat": 4,
  "nbformat_minor": 0
}