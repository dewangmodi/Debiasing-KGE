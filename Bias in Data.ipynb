{
 "cells": [
  {
   "cell_type": "code",
   "execution_count": 1,
   "id": "9ccfb15a",
   "metadata": {},
   "outputs": [],
   "source": [
    "import numpy as np\n",
    "import pandas as pd\n",
    "import matplotlib.pyplot as plt\n",
    "# load data\n",
    "entity_labels = pd.read_csv(\"knowledge_graph/entities_labels.tsv\",delimiter='\\t', header=None, names=[\"id\",\"name\"])\n",
    "property_labels = pd.read_csv(\"knowledge_graph/properties_labels.tsv\",delimiter='\\t',names=[\"id\",\"name\"])\n",
    "triplets = pd.read_csv(\"knowledge_graph/India_final.tsv\",delimiter='\\t',header=None,names=[\"head\",\"relation\",\"tail\"])\n"
   ]
  },
  {
   "cell_type": "code",
   "execution_count": 2,
   "id": "0d83e0bb",
   "metadata": {},
   "outputs": [],
   "source": [
    "# drop nan rows\n",
    "triplets = triplets.dropna()\n",
    "entity_labels = entity_labels.dropna()\n",
    "property_labels = property_labels.dropna()"
   ]
  },
  {
   "cell_type": "code",
   "execution_count": 3,
   "id": "d35936f3",
   "metadata": {},
   "outputs": [
    {
     "data": {
      "text/html": [
       "<div>\n",
       "<style scoped>\n",
       "    .dataframe tbody tr th:only-of-type {\n",
       "        vertical-align: middle;\n",
       "    }\n",
       "\n",
       "    .dataframe tbody tr th {\n",
       "        vertical-align: top;\n",
       "    }\n",
       "\n",
       "    .dataframe thead th {\n",
       "        text-align: right;\n",
       "    }\n",
       "</style>\n",
       "<table border=\"1\" class=\"dataframe\">\n",
       "  <thead>\n",
       "    <tr style=\"text-align: right;\">\n",
       "      <th></th>\n",
       "      <th>id</th>\n",
       "      <th>name</th>\n",
       "    </tr>\n",
       "  </thead>\n",
       "  <tbody>\n",
       "    <tr>\n",
       "      <th>1039</th>\n",
       "      <td>P21</td>\n",
       "      <td>'sex or gender'</td>\n",
       "    </tr>\n",
       "  </tbody>\n",
       "</table>\n",
       "</div>"
      ],
      "text/plain": [
       "       id             name\n",
       "1039  P21  'sex or gender'"
      ]
     },
     "execution_count": 3,
     "metadata": {},
     "output_type": "execute_result"
    }
   ],
   "source": [
    "# gender relation\n",
    "gender_relation_name = \"'sex or gender'\"\n",
    "property_labels[property_labels[\"name\"].str.contains(\"gender\")]"
   ]
  },
  {
   "cell_type": "code",
   "execution_count": 4,
   "id": "0b1c7520",
   "metadata": {},
   "outputs": [],
   "source": [
    "# genders\n",
    "triplets[triplets[\"relation\"]==gender_relation_name][\"tail\"].unique()\n",
    "male_categories = [\"'male'\",\"'male organism'\"]\n",
    "female_categories = [\"'female'\"]\n",
    "transgender_categories = [\"'transgender female'\",\"'intersex'\",\"'genderqueer'\",\"'non-binary'\", \"somevalue\"]"
   ]
  },
  {
   "cell_type": "code",
   "execution_count": 5,
   "id": "fefac85b",
   "metadata": {},
   "outputs": [],
   "source": [
    "# find male and female entities\n",
    "gender_triplets = triplets[triplets[\"relation\"]==gender_relation_name]\n",
    "male_entities = gender_triplets[gender_triplets[\"tail\"].isin(male_categories)][\"head\"].values\n",
    "female_entities = gender_triplets[gender_triplets[\"tail\"].isin(female_categories)][\"head\"].values"
   ]
  },
  {
   "cell_type": "code",
   "execution_count": 6,
   "id": "42578b6d",
   "metadata": {},
   "outputs": [
    {
     "data": {
      "text/html": [
       "<div>\n",
       "<style scoped>\n",
       "    .dataframe tbody tr th:only-of-type {\n",
       "        vertical-align: middle;\n",
       "    }\n",
       "\n",
       "    .dataframe tbody tr th {\n",
       "        vertical-align: top;\n",
       "    }\n",
       "\n",
       "    .dataframe thead th {\n",
       "        text-align: right;\n",
       "    }\n",
       "</style>\n",
       "<table border=\"1\" class=\"dataframe\">\n",
       "  <thead>\n",
       "    <tr style=\"text-align: right;\">\n",
       "      <th></th>\n",
       "      <th>id</th>\n",
       "      <th>name</th>\n",
       "    </tr>\n",
       "  </thead>\n",
       "  <tbody>\n",
       "    <tr>\n",
       "      <th>644</th>\n",
       "      <td>P106</td>\n",
       "      <td>'occupation'</td>\n",
       "    </tr>\n",
       "  </tbody>\n",
       "</table>\n",
       "</div>"
      ],
      "text/plain": [
       "       id          name\n",
       "644  P106  'occupation'"
      ]
     },
     "execution_count": 6,
     "metadata": {},
     "output_type": "execute_result"
    }
   ],
   "source": [
    "# occupation relation\n",
    "occupation_relation_name = \"'occupation'\"\n",
    "property_labels[property_labels[\"name\"].str.contains(\"occupation\")]"
   ]
  },
  {
   "cell_type": "code",
   "execution_count": 7,
   "id": "9f465af2",
   "metadata": {},
   "outputs": [],
   "source": [
    "# male occupation triplets and female occupation triplets\n",
    "occupation_triplets = triplets[triplets[\"relation\"]==occupation_relation_name]\n",
    "male_triplets = occupation_triplets[occupation_triplets[\"head\"].isin(male_entities)]\n",
    "female_triplets = occupation_triplets[occupation_triplets[\"head\"].isin(female_entities)]"
   ]
  },
  {
   "cell_type": "code",
   "execution_count": 8,
   "id": "4b875e15",
   "metadata": {},
   "outputs": [],
   "source": [
    "# getting probabilities per occupation\n",
    "male_counts = male_triplets[\"tail\"].value_counts()\n",
    "female_counts = female_triplets[\"tail\"].value_counts()\n",
    "probs = pd.DataFrame({\"male\":male_counts,\"female\":female_counts}).fillna(0)\n",
    "probs[\"male\"]/=male_triplets.shape[0]\n",
    "probs[\"female\"]/=female_triplets.shape[0]\n",
    "\n",
    "probs[\"diff\"] = probs[\"male\"]-probs[\"female\"]"
   ]
  },
  {
   "cell_type": "code",
   "execution_count": 9,
   "id": "3fb95df1",
   "metadata": {},
   "outputs": [],
   "source": [
    "# get gender-neutral occupation counts\n",
    "def get_neutral_counts(t,probs):\n",
    "    return probs[(probs[\"diff\"]>=-t) & (probs[\"diff\"]<=t)].shape[0]"
   ]
  },
  {
   "cell_type": "code",
   "execution_count": 10,
   "id": "63556509",
   "metadata": {},
   "outputs": [
    {
     "data": {
      "image/png": "[encoded data removed]",
      "text/plain": [
       "<Figure size 432x288 with 1 Axes>"
      ]
     },
     "metadata": {
      "needs_background": "light"
     },
     "output_type": "display_data"
    }
   ],
   "source": [
    "t_values = list(np.arange(0,1,0.01))\n",
    "neutral_counts = [get_neutral_counts(t,probs) for t in t_values]\n",
    "\n",
    "plt.plot(t_values,neutral_counts)\n",
    "plt.xlabel(\"t value\")\n",
    "plt.ylabel(\"Neutral gender counts\")\n",
    "plt.show()"
   ]
  },
  {
   "cell_type": "code",
   "execution_count": 21,
   "id": "cef2904d",
   "metadata": {},
   "outputs": [
    {
     "data": {
      "image/png": "[encoded data removed]",
      "text/plain": [
       "<Figure size 432x288 with 1 Axes>"
      ]
     },
     "metadata": {
      "needs_background": "light"
     },
     "output_type": "display_data"
    }
   ],
   "source": [
    "upper_val = 0.0001\n",
    "values = 100\n",
    "t_values = list(np.arange(0,upper_val,upper_val/values))\n",
    "neutral_counts = [get_neutral_counts(t,probs) for t in t_values]\n",
    "\n",
    "plt.plot(t_values,neutral_counts)\n",
    "plt.xlabel(\"t value\")\n",
    "plt.ylabel(\"Neutral gender counts\")\n",
    "plt.show()"
   ]
  },
  {
   "cell_type": "markdown",
   "id": "1d3f8bfc",
   "metadata": {},
   "source": [
    "# check : checking whether there are multiple entries for entities\n",
    "\n",
    "Gender for every entitity is unique\n",
    "Occupation for an entity may not be unique"
   ]
  },
  {
   "cell_type": "code",
   "execution_count": 12,
   "id": "3480a867",
   "metadata": {},
   "outputs": [
    {
     "data": {
      "text/plain": [
       "'Karnendu Bhattacharjee'     1\n",
       "'Baselios Thomas I'          1\n",
       "'Harsh Narayan'              1\n",
       "'Dilip Kumar Mandal'         1\n",
       "'Aamir Ashraf'               1\n",
       "                            ..\n",
       "'Manoj Kumar'               16\n",
       "'Vijay Kumar'               17\n",
       "'Anil Kumar'                25\n",
       "'Ashok Kumar'               26\n",
       "'Bhimrao Ramji Ambedkar'    33\n",
       "Name: head, Length: 39905, dtype: int64"
      ]
     },
     "execution_count": 12,
     "metadata": {},
     "output_type": "execute_result"
    }
   ],
   "source": [
    "male_triplets[\"head\"].value_counts().sort_values()"
   ]
  },
  {
   "cell_type": "code",
   "execution_count": 13,
   "id": "7dd90811",
   "metadata": {},
   "outputs": [
    {
     "data": {
      "text/plain": [
       "'Ridhanya Ruth'               1\n",
       "'Jyoti Mishra'                1\n",
       "'Sai Jayalakshmy Jayaram'     1\n",
       "'Ritu Dhrub'                  1\n",
       "'Shikha Gautam'               1\n",
       "                             ..\n",
       "'Rekha'                       7\n",
       "'Neena Gupta'                 7\n",
       "'Hema Malini'                 8\n",
       "'Krishna Das'                 8\n",
       "'Smita Nair Jain'            13\n",
       "Name: head, Length: 9313, dtype: int64"
      ]
     },
     "execution_count": 13,
     "metadata": {},
     "output_type": "execute_result"
    }
   ],
   "source": [
    "female_triplets[\"head\"].value_counts().sort_values()"
   ]
  },
  {
   "cell_type": "code",
   "execution_count": 14,
   "id": "4a09a471",
   "metadata": {},
   "outputs": [
    {
     "data": {
      "text/html": [
       "<div>\n",
       "<style scoped>\n",
       "    .dataframe tbody tr th:only-of-type {\n",
       "        vertical-align: middle;\n",
       "    }\n",
       "\n",
       "    .dataframe tbody tr th {\n",
       "        vertical-align: top;\n",
       "    }\n",
       "\n",
       "    .dataframe thead th {\n",
       "        text-align: right;\n",
       "    }\n",
       "</style>\n",
       "<table border=\"1\" class=\"dataframe\">\n",
       "  <thead>\n",
       "    <tr style=\"text-align: right;\">\n",
       "      <th></th>\n",
       "      <th>head</th>\n",
       "      <th>relation</th>\n",
       "      <th>tail</th>\n",
       "    </tr>\n",
       "  </thead>\n",
       "  <tbody>\n",
       "    <tr>\n",
       "      <th>141727</th>\n",
       "      <td>'Smita Nair Jain'</td>\n",
       "      <td>'occupation'</td>\n",
       "      <td>'film actor'</td>\n",
       "    </tr>\n",
       "    <tr>\n",
       "      <th>141728</th>\n",
       "      <td>'Smita Nair Jain'</td>\n",
       "      <td>'occupation'</td>\n",
       "      <td>'playback singer'</td>\n",
       "    </tr>\n",
       "    <tr>\n",
       "      <th>141729</th>\n",
       "      <td>'Smita Nair Jain'</td>\n",
       "      <td>'occupation'</td>\n",
       "      <td>'singer'</td>\n",
       "    </tr>\n",
       "    <tr>\n",
       "      <th>141730</th>\n",
       "      <td>'Smita Nair Jain'</td>\n",
       "      <td>'occupation'</td>\n",
       "      <td>'screenwriter'</td>\n",
       "    </tr>\n",
       "    <tr>\n",
       "      <th>141731</th>\n",
       "      <td>'Smita Nair Jain'</td>\n",
       "      <td>'occupation'</td>\n",
       "      <td>'actor'</td>\n",
       "    </tr>\n",
       "    <tr>\n",
       "      <th>141732</th>\n",
       "      <td>'Smita Nair Jain'</td>\n",
       "      <td>'occupation'</td>\n",
       "      <td>'adjunct professor'</td>\n",
       "    </tr>\n",
       "    <tr>\n",
       "      <th>141733</th>\n",
       "      <td>'Smita Nair Jain'</td>\n",
       "      <td>'occupation'</td>\n",
       "      <td>'writer'</td>\n",
       "    </tr>\n",
       "    <tr>\n",
       "      <th>141734</th>\n",
       "      <td>'Smita Nair Jain'</td>\n",
       "      <td>'occupation'</td>\n",
       "      <td>'teacher'</td>\n",
       "    </tr>\n",
       "    <tr>\n",
       "      <th>141735</th>\n",
       "      <td>'Smita Nair Jain'</td>\n",
       "      <td>'occupation'</td>\n",
       "      <td>'author'</td>\n",
       "    </tr>\n",
       "    <tr>\n",
       "      <th>141736</th>\n",
       "      <td>'Smita Nair Jain'</td>\n",
       "      <td>'occupation'</td>\n",
       "      <td>'blogger'</td>\n",
       "    </tr>\n",
       "    <tr>\n",
       "      <th>141737</th>\n",
       "      <td>'Smita Nair Jain'</td>\n",
       "      <td>'occupation'</td>\n",
       "      <td>'scientist'</td>\n",
       "    </tr>\n",
       "    <tr>\n",
       "      <th>141738</th>\n",
       "      <td>'Smita Nair Jain'</td>\n",
       "      <td>'occupation'</td>\n",
       "      <td>'lecturer'</td>\n",
       "    </tr>\n",
       "    <tr>\n",
       "      <th>141739</th>\n",
       "      <td>'Smita Nair Jain'</td>\n",
       "      <td>'occupation'</td>\n",
       "      <td>'educator'</td>\n",
       "    </tr>\n",
       "  </tbody>\n",
       "</table>\n",
       "</div>"
      ],
      "text/plain": [
       "                     head      relation                 tail\n",
       "141727  'Smita Nair Jain'  'occupation'         'film actor'\n",
       "141728  'Smita Nair Jain'  'occupation'    'playback singer'\n",
       "141729  'Smita Nair Jain'  'occupation'             'singer'\n",
       "141730  'Smita Nair Jain'  'occupation'       'screenwriter'\n",
       "141731  'Smita Nair Jain'  'occupation'              'actor'\n",
       "141732  'Smita Nair Jain'  'occupation'  'adjunct professor'\n",
       "141733  'Smita Nair Jain'  'occupation'             'writer'\n",
       "141734  'Smita Nair Jain'  'occupation'            'teacher'\n",
       "141735  'Smita Nair Jain'  'occupation'             'author'\n",
       "141736  'Smita Nair Jain'  'occupation'            'blogger'\n",
       "141737  'Smita Nair Jain'  'occupation'          'scientist'\n",
       "141738  'Smita Nair Jain'  'occupation'           'lecturer'\n",
       "141739  'Smita Nair Jain'  'occupation'           'educator'"
      ]
     },
     "execution_count": 14,
     "metadata": {},
     "output_type": "execute_result"
    }
   ],
   "source": [
    "triplets[(triplets[\"head\"]==\"'Smita Nair Jain'\") & (triplets[\"relation\"]==occupation_relation_name)]"
   ]
  },
  {
   "cell_type": "code",
   "execution_count": 15,
   "id": "d146bd61",
   "metadata": {},
   "outputs": [
    {
     "data": {
      "text/plain": [
       "'Vrindavanam Venugopalan'     1\n",
       "'Rali Nanda'                  1\n",
       "'Daulata Ganda'               1\n",
       "'Mathew Vattackuzhy'          1\n",
       "'Abani Bhusan Satpathi'       1\n",
       "                             ..\n",
       "'Ram Singh'                  16\n",
       "'Ajit Singh'                 16\n",
       "'Vijay Kumar'                19\n",
       "'Ashok Kumar'                21\n",
       "'Anil Kumar'                 28\n",
       "Name: head, Length: 54280, dtype: int64"
      ]
     },
     "execution_count": 15,
     "metadata": {},
     "output_type": "execute_result"
    }
   ],
   "source": [
    "triplets[(triplets[\"relation\"]==gender_relation_name)][\"head\"].value_counts().sort_values()"
   ]
  },
  {
   "cell_type": "code",
   "execution_count": 16,
   "id": "ab1c73c0",
   "metadata": {},
   "outputs": [
    {
     "data": {
      "text/html": [
       "<div>\n",
       "<style scoped>\n",
       "    .dataframe tbody tr th:only-of-type {\n",
       "        vertical-align: middle;\n",
       "    }\n",
       "\n",
       "    .dataframe tbody tr th {\n",
       "        vertical-align: top;\n",
       "    }\n",
       "\n",
       "    .dataframe thead th {\n",
       "        text-align: right;\n",
       "    }\n",
       "</style>\n",
       "<table border=\"1\" class=\"dataframe\">\n",
       "  <thead>\n",
       "    <tr style=\"text-align: right;\">\n",
       "      <th></th>\n",
       "      <th>head</th>\n",
       "      <th>relation</th>\n",
       "      <th>tail</th>\n",
       "    </tr>\n",
       "  </thead>\n",
       "  <tbody>\n",
       "    <tr>\n",
       "      <th>94872</th>\n",
       "      <td>'Ashok Kumar'</td>\n",
       "      <td>'sex or gender'</td>\n",
       "      <td>'male'</td>\n",
       "    </tr>\n",
       "    <tr>\n",
       "      <th>168700</th>\n",
       "      <td>'Ashok Kumar'</td>\n",
       "      <td>'sex or gender'</td>\n",
       "      <td>'male'</td>\n",
       "    </tr>\n",
       "    <tr>\n",
       "      <th>271332</th>\n",
       "      <td>'Ashok Kumar'</td>\n",
       "      <td>'sex or gender'</td>\n",
       "      <td>'male'</td>\n",
       "    </tr>\n",
       "    <tr>\n",
       "      <th>346776</th>\n",
       "      <td>'Ashok Kumar'</td>\n",
       "      <td>'sex or gender'</td>\n",
       "      <td>'male'</td>\n",
       "    </tr>\n",
       "    <tr>\n",
       "      <th>397818</th>\n",
       "      <td>'Ashok Kumar'</td>\n",
       "      <td>'sex or gender'</td>\n",
       "      <td>'male'</td>\n",
       "    </tr>\n",
       "    <tr>\n",
       "      <th>397832</th>\n",
       "      <td>'Ashok Kumar'</td>\n",
       "      <td>'sex or gender'</td>\n",
       "      <td>'male'</td>\n",
       "    </tr>\n",
       "    <tr>\n",
       "      <th>397841</th>\n",
       "      <td>'Ashok Kumar'</td>\n",
       "      <td>'sex or gender'</td>\n",
       "      <td>'male'</td>\n",
       "    </tr>\n",
       "    <tr>\n",
       "      <th>397872</th>\n",
       "      <td>'Ashok Kumar'</td>\n",
       "      <td>'sex or gender'</td>\n",
       "      <td>'male'</td>\n",
       "    </tr>\n",
       "    <tr>\n",
       "      <th>523739</th>\n",
       "      <td>'Ashok Kumar'</td>\n",
       "      <td>'sex or gender'</td>\n",
       "      <td>'male'</td>\n",
       "    </tr>\n",
       "    <tr>\n",
       "      <th>525887</th>\n",
       "      <td>'Ashok Kumar'</td>\n",
       "      <td>'sex or gender'</td>\n",
       "      <td>'male'</td>\n",
       "    </tr>\n",
       "    <tr>\n",
       "      <th>526025</th>\n",
       "      <td>'Ashok Kumar'</td>\n",
       "      <td>'sex or gender'</td>\n",
       "      <td>'male'</td>\n",
       "    </tr>\n",
       "    <tr>\n",
       "      <th>529628</th>\n",
       "      <td>'Ashok Kumar'</td>\n",
       "      <td>'sex or gender'</td>\n",
       "      <td>'male'</td>\n",
       "    </tr>\n",
       "    <tr>\n",
       "      <th>543317</th>\n",
       "      <td>'Ashok Kumar'</td>\n",
       "      <td>'sex or gender'</td>\n",
       "      <td>'male'</td>\n",
       "    </tr>\n",
       "    <tr>\n",
       "      <th>544158</th>\n",
       "      <td>'Ashok Kumar'</td>\n",
       "      <td>'sex or gender'</td>\n",
       "      <td>'male'</td>\n",
       "    </tr>\n",
       "    <tr>\n",
       "      <th>549932</th>\n",
       "      <td>'Ashok Kumar'</td>\n",
       "      <td>'sex or gender'</td>\n",
       "      <td>'male'</td>\n",
       "    </tr>\n",
       "    <tr>\n",
       "      <th>550004</th>\n",
       "      <td>'Ashok Kumar'</td>\n",
       "      <td>'sex or gender'</td>\n",
       "      <td>'male'</td>\n",
       "    </tr>\n",
       "    <tr>\n",
       "      <th>550249</th>\n",
       "      <td>'Ashok Kumar'</td>\n",
       "      <td>'sex or gender'</td>\n",
       "      <td>'male'</td>\n",
       "    </tr>\n",
       "    <tr>\n",
       "      <th>554970</th>\n",
       "      <td>'Ashok Kumar'</td>\n",
       "      <td>'sex or gender'</td>\n",
       "      <td>'male'</td>\n",
       "    </tr>\n",
       "    <tr>\n",
       "      <th>585594</th>\n",
       "      <td>'Ashok Kumar'</td>\n",
       "      <td>'sex or gender'</td>\n",
       "      <td>'male'</td>\n",
       "    </tr>\n",
       "    <tr>\n",
       "      <th>590667</th>\n",
       "      <td>'Ashok Kumar'</td>\n",
       "      <td>'sex or gender'</td>\n",
       "      <td>'male'</td>\n",
       "    </tr>\n",
       "    <tr>\n",
       "      <th>593068</th>\n",
       "      <td>'Ashok Kumar'</td>\n",
       "      <td>'sex or gender'</td>\n",
       "      <td>'male'</td>\n",
       "    </tr>\n",
       "  </tbody>\n",
       "</table>\n",
       "</div>"
      ],
      "text/plain": [
       "                 head         relation    tail\n",
       "94872   'Ashok Kumar'  'sex or gender'  'male'\n",
       "168700  'Ashok Kumar'  'sex or gender'  'male'\n",
       "271332  'Ashok Kumar'  'sex or gender'  'male'\n",
       "346776  'Ashok Kumar'  'sex or gender'  'male'\n",
       "397818  'Ashok Kumar'  'sex or gender'  'male'\n",
       "397832  'Ashok Kumar'  'sex or gender'  'male'\n",
       "397841  'Ashok Kumar'  'sex or gender'  'male'\n",
       "397872  'Ashok Kumar'  'sex or gender'  'male'\n",
       "523739  'Ashok Kumar'  'sex or gender'  'male'\n",
       "525887  'Ashok Kumar'  'sex or gender'  'male'\n",
       "526025  'Ashok Kumar'  'sex or gender'  'male'\n",
       "529628  'Ashok Kumar'  'sex or gender'  'male'\n",
       "543317  'Ashok Kumar'  'sex or gender'  'male'\n",
       "544158  'Ashok Kumar'  'sex or gender'  'male'\n",
       "549932  'Ashok Kumar'  'sex or gender'  'male'\n",
       "550004  'Ashok Kumar'  'sex or gender'  'male'\n",
       "550249  'Ashok Kumar'  'sex or gender'  'male'\n",
       "554970  'Ashok Kumar'  'sex or gender'  'male'\n",
       "585594  'Ashok Kumar'  'sex or gender'  'male'\n",
       "590667  'Ashok Kumar'  'sex or gender'  'male'\n",
       "593068  'Ashok Kumar'  'sex or gender'  'male'"
      ]
     },
     "execution_count": 16,
     "metadata": {},
     "output_type": "execute_result"
    }
   ],
   "source": [
    "triplets[(triplets[\"relation\"]==gender_relation_name) & (triplets[\"head\"]==\"'Ashok Kumar'\")]"
   ]
  },
  {
   "cell_type": "code",
   "execution_count": 17,
   "id": "0bfa7ce5",
   "metadata": {},
   "outputs": [
    {
     "data": {
      "text/plain": [
       "'Ram Nath Singh'            1\n",
       "'Manjunath'                 1\n",
       "'Hakim Imtiyaz Hussain'     1\n",
       "'Shah dynasty'              1\n",
       "'Riaz Ahmed'                1\n",
       "                           ..\n",
       "'Ajit Singh'               16\n",
       "'Ram Singh'                16\n",
       "'Vijay Kumar'              20\n",
       "'Ashok Kumar'              23\n",
       "'Anil Kumar'               28\n",
       "Name: name, Length: 81202, dtype: int64"
      ]
     },
     "execution_count": 17,
     "metadata": {},
     "output_type": "execute_result"
    }
   ],
   "source": [
    "entity_labels[\"name\"].value_counts().sort_values()"
   ]
  },
  {
   "cell_type": "code",
   "execution_count": 18,
   "id": "407c0384",
   "metadata": {},
   "outputs": [
    {
     "data": {
      "text/plain": [
       "'ArtBrokerage artist ID'                 1\n",
       "'Biographie nationale de Belgique ID'    1\n",
       "'All About Jazz musician ID'             1\n",
       "'Spotify artist ID'                      1\n",
       "'KKBox artist ID'                        1\n",
       "                                        ..\n",
       "'SecondHandSongs artist ID'              1\n",
       "'JSTOR article ID'                       1\n",
       "'academic degree'                        1\n",
       "'MathWorld identifier'                   1\n",
       "'BoxRec boxer ID'                        1\n",
       "Name: name, Length: 1265, dtype: int64"
      ]
     },
     "execution_count": 18,
     "metadata": {},
     "output_type": "execute_result"
    }
   ],
   "source": [
    "property_labels[\"name\"].value_counts().sort_values()"
   ]
  }
 ],
 "metadata": {
  "kernelspec": {
   "display_name": "Python 3",
   "language": "python",
   "name": "python3"
  },
  "language_info": {
   "codemirror_mode": {
    "name": "ipython",
    "version": 3
   },
   "file_extension": ".py",
   "mimetype": "text/x-python",
   "name": "python",
   "nbconvert_exporter": "python",
   "pygments_lexer": "ipython3",
   "version": "3.8.8"
  }
 },
 "nbformat": 4,
 "nbformat_minor": 5
}
