{
 "cells": [
  {
   "cell_type": "code",
   "execution_count": 1,
   "id": "fbd40fbf",
   "metadata": {},
   "outputs": [],
   "source": [
    "from embedding_helper import *\n",
    "from data_handler import *"
   ]
  },
  {
   "cell_type": "code",
   "execution_count": 2,
   "id": "13c04456",
   "metadata": {},
   "outputs": [],
   "source": [
    "DIMS = 50\n",
    "CUTOFF = 0.00002"
   ]
  },
  {
   "cell_type": "code",
   "execution_count": 3,
   "id": "4541d79c",
   "metadata": {},
   "outputs": [],
   "source": [
    "# loading embeddings\n",
    "entity_vec, relations_vec = load_embeddings(dims=DIMS)\n",
    "entity_dict, relations_dict = load_ids()\n",
    "\n",
    "male_vector, female_vector = get_gender_vectors(entity_vec, entity_dict, DIMS)\n",
    "\n",
    "# getting occupation sets\n",
    "triplets, entity_labels, property_labels = load_data()\n",
    "male_occupations, female_occupations, neutral_occupations = get_male_female_neutral_occupations(triplets, entity_labels, property_labels, CUTOFF)\n",
    "\n"
   ]
  },
  {
   "cell_type": "code",
   "execution_count": 4,
   "id": "dc7f7702",
   "metadata": {},
   "outputs": [],
   "source": [
    "def get_occupation_projection_score(occupation_list):\n",
    "    # here we skip the occupations whose vector is not available\n",
    "    gender_vector = (female_vector - male_vector)/np.linalg.norm(female_vector - male_vector)\n",
    "    projection_score = 0\n",
    "    count = 0\n",
    "    for i in occupation_list:\n",
    "        occupation_id = get_entity_id(entity_labels, i)\n",
    "        occupation_id_with_vector = []\n",
    "        for occ_id in occupation_id:\n",
    "            if occ_id in entity_dict:\n",
    "                occupation_id_with_vector.append(occ_id)\n",
    "        if len(occupation_id_with_vector)==0:\n",
    "            continue\n",
    "        occupation_vector = get_averaged_entity_vector(entity_vec, entity_dict,DIMS,occupation_id_with_vector)\n",
    "        projection = np.dot(gender_vector.transpose(), occupation_vector)\n",
    "        projection_score += projection\n",
    "        count += 1\n",
    "    return projection_score/count\n"
   ]
  },
  {
   "cell_type": "code",
   "execution_count": 5,
   "id": "d5db4f6a",
   "metadata": {},
   "outputs": [
    {
     "name": "stdout",
     "output_type": "stream",
     "text": [
      "Projection Score\tMale\t\tFemale\t\tNeutral\n",
      "\t\t\t0.177166\t0.155831\t0.104418\n"
     ]
    }
   ],
   "source": [
    "# first row of Table III\n",
    "male_occupation_score = get_occupation_projection_score(male_occupations)\n",
    "female_occupation_score = get_occupation_projection_score(female_occupations)\n",
    "neutral_occupation_score = get_occupation_projection_score(neutral_occupations)\n",
    "print(\"Projection Score\\tMale\\t\\tFemale\\t\\tNeutral\")\n",
    "print(\"\\t\\t\\t%f\\t%f\\t%f\"%(male_occupation_score, female_occupation_score, neutral_occupation_score))"
   ]
  }
 ],
 "metadata": {
  "kernelspec": {
   "display_name": "Python 3",
   "language": "python",
   "name": "python3"
  },
  "language_info": {
   "codemirror_mode": {
    "name": "ipython",
    "version": 3
   },
   "file_extension": ".py",
   "mimetype": "text/x-python",
   "name": "python",
   "nbconvert_exporter": "python",
   "pygments_lexer": "ipython3",
   "version": "3.8.8"
  }
 },
 "nbformat": 4,
 "nbformat_minor": 5
}
