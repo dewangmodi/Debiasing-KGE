{
 "cells": [
  {
   "cell_type": "code",
   "execution_count": 31,
   "id": "dfe0848a",
   "metadata": {
    "scrolled": true
   },
   "outputs": [
    {
     "name": "stdout",
     "output_type": "stream",
     "text": [
      "Region :  India\n",
      "[\"'Hinduism'\", \"'Islam'\", \"'Catholic Church'\", \"'Jainism'\", \"'Buddhism'\", \"'atheism'\", \"'Shia Islam'\", \"'Sunni Islam'\", \"'Sikhism'\", \"'Hindu'\"]\n",
      "Region :  Russia\n",
      "[\"'Eastern Orthodoxy'\", \"'Islam'\", \"'Eastern Orthodox Church'\", \"'Sunni Islam'\", \"'Russian Orthodox Church'\", \"'atheism'\", \"'Judaism'\", \"'Catholic Church'\", \"'Christianity'\", \"'Buddhism'\"]\n",
      "Region :  Arabia\n",
      "[\"'Islam'\", \"'Sunni Islam'\", \"'Shia Islam'\", \"'Twelvers'\", \"'Catholic Church'\", \"'Judaism'\", \"'Usuli'\", \"'Muslim'\", \"'Chaldean Catholic Church'\", \"'Hanbalism'\"]\n"
     ]
    }
   ],
   "source": [
    "from embedding_helper import *\n",
    "from data_handler import *\n",
    "import os\n",
    "\n",
    "\n",
    "DIMS = 50\n",
    "CUTOFF = 0.00002\n",
    "\n",
    "# loading embeddings\n",
    "# entity_vec, relations_vec = load_embeddings(dims=DIMS)\n",
    "# entity_dict, relations_dict = load_ids()\n",
    "\n",
    "# male_vector, female_vector = get_gender_vectors(entity_vec, entity_dict, DIMS)\n",
    "\n",
    "# getting occupation sets\n",
    "REGION_NAMES = [\"India\",\"Russia\",\"Arabia\"]\n",
    "REGION_FOLDER_NAMES = [\"Indian\",\"Russian\", \"Arabian\"]\n",
    "\n",
    "occupation_sets_region_wise = []\n",
    "\n",
    "for i,region in enumerate(REGION_NAMES):\n",
    "    print(\"Region : \",region)\n",
    "    region_folder = REGION_FOLDER_NAMES[i]\n",
    "    entity_path = os.path.join(\"knowledge_graphs\", region_folder, \"entities_labels.tsv\")\n",
    "    property_path = os.path.join(\"knowledge_graphs\", region_folder, \"properties_labels.tsv\")\n",
    "    triplets_path = os.path.join(\"knowledge_graphs\", region_folder, region+\"_final.tsv\")\n",
    "\n",
    "    # getting occupation sets\n",
    "    triplets, entity_labels, property_labels = load_data(entity_path, property_path, triplets_path)\n",
    "    print(triplets[triplets[\"relation\"]==\"'religion'\"][\"tail\"].value_counts()[:10].index.tolist())\n"
   ]
  },
  {
   "cell_type": "code",
   "execution_count": 25,
   "id": "1fb239c4",
   "metadata": {},
   "outputs": [
    {
     "data": {
      "text/plain": [
       "['Q9089']"
      ]
     },
     "execution_count": 25,
     "metadata": {},
     "output_type": "execute_result"
    }
   ],
   "source": [
    "get_entity_id(entity_labels, \"'Hinduism'\")"
   ]
  },
  {
   "cell_type": "code",
   "execution_count": 26,
   "id": "24e2b2ff",
   "metadata": {},
   "outputs": [
    {
     "data": {
      "text/html": [
       "<div>\n",
       "<style scoped>\n",
       "    .dataframe tbody tr th:only-of-type {\n",
       "        vertical-align: middle;\n",
       "    }\n",
       "\n",
       "    .dataframe tbody tr th {\n",
       "        vertical-align: top;\n",
       "    }\n",
       "\n",
       "    .dataframe thead th {\n",
       "        text-align: right;\n",
       "    }\n",
       "</style>\n",
       "<table border=\"1\" class=\"dataframe\">\n",
       "  <thead>\n",
       "    <tr style=\"text-align: right;\">\n",
       "      <th></th>\n",
       "      <th>id</th>\n",
       "      <th>name</th>\n",
       "    </tr>\n",
       "  </thead>\n",
       "  <tbody>\n",
       "    <tr>\n",
       "      <th>447</th>\n",
       "      <td>P140</td>\n",
       "      <td>'religion'</td>\n",
       "    </tr>\n",
       "  </tbody>\n",
       "</table>\n",
       "</div>"
      ],
      "text/plain": [
       "       id        name\n",
       "447  P140  'religion'"
      ]
     },
     "execution_count": 26,
     "metadata": {},
     "output_type": "execute_result"
    }
   ],
   "source": [
    "property_labels[property_labels[\"name\"]==\"'religion'\"]"
   ]
  },
  {
   "cell_type": "code",
   "execution_count": 34,
   "id": "d6f50953",
   "metadata": {},
   "outputs": [
    {
     "data": {
      "text/html": [
       "<div>\n",
       "<style scoped>\n",
       "    .dataframe tbody tr th:only-of-type {\n",
       "        vertical-align: middle;\n",
       "    }\n",
       "\n",
       "    .dataframe tbody tr th {\n",
       "        vertical-align: top;\n",
       "    }\n",
       "\n",
       "    .dataframe thead th {\n",
       "        text-align: right;\n",
       "    }\n",
       "</style>\n",
       "<table border=\"1\" class=\"dataframe\">\n",
       "  <thead>\n",
       "    <tr style=\"text-align: right;\">\n",
       "      <th></th>\n",
       "      <th>id</th>\n",
       "      <th>name</th>\n",
       "    </tr>\n",
       "  </thead>\n",
       "  <tbody>\n",
       "    <tr>\n",
       "      <th>8615</th>\n",
       "      <td>Q1674068</td>\n",
       "      <td>'Islam'</td>\n",
       "    </tr>\n",
       "    <tr>\n",
       "      <th>12394</th>\n",
       "      <td>Q432</td>\n",
       "      <td>'Islam'</td>\n",
       "    </tr>\n",
       "    <tr>\n",
       "      <th>19719</th>\n",
       "      <td>Q36909358</td>\n",
       "      <td>'Islam'</td>\n",
       "    </tr>\n",
       "    <tr>\n",
       "      <th>22028</th>\n",
       "      <td>Q27522394</td>\n",
       "      <td>'Islam'</td>\n",
       "    </tr>\n",
       "  </tbody>\n",
       "</table>\n",
       "</div>"
      ],
      "text/plain": [
       "              id     name\n",
       "8615    Q1674068  'Islam'\n",
       "12394       Q432  'Islam'\n",
       "19719  Q36909358  'Islam'\n",
       "22028  Q27522394  'Islam'"
      ]
     },
     "execution_count": 34,
     "metadata": {},
     "output_type": "execute_result"
    }
   ],
   "source": [
    "entity_labels[entity_labels[\"name\"]==\"'Islam'\"]"
   ]
  }
 ],
 "metadata": {
  "kernelspec": {
   "display_name": "Python 3",
   "language": "python",
   "name": "python3"
  },
  "language_info": {
   "codemirror_mode": {
    "name": "ipython",
    "version": 3
   },
   "file_extension": ".py",
   "mimetype": "text/x-python",
   "name": "python",
   "nbconvert_exporter": "python",
   "pygments_lexer": "ipython3",
   "version": "3.8.8"
  }
 },
 "nbformat": 4,
 "nbformat_minor": 5
}
